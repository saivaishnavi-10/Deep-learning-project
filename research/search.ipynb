{
 "cells": [
  {
   "cell_type": "code",
   "execution_count": null,
   "id": "3d51facf",
   "metadata": {},
   "outputs": [],
   "source": [
    "num1 = float(input(\"Enter the first number\"))\n",
    "num2 = float(input(\"Enter the second number\"))"
   ]
  }
 ],
 "metadata": {
  "kernelspec": {
   "display_name": "Python 3",
   "language": "python",
   "name": "python3"
  },
  "language_info": {
   "name": "python",
   "version": "3.11.9"
  }
 },
 "nbformat": 4,
 "nbformat_minor": 5
}
